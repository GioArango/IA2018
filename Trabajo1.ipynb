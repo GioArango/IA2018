{
 "metadata": {
  "name": "",
  "signature": "sha256:1b1eb45a395660d04f1a644bfcab0630d9e6e7f427a48fa1eabab0e91f90f830"
 },
 "nbformat": 3,
 "nbformat_minor": 0,
 "worksheets": [
  {
   "cells": [
    {
     "cell_type": "heading",
     "level": 1,
     "metadata": {},
     "source": [
      "<br>\n",
      "<br>\n",
      "<br>\n",
      "TRABAJO 1"
     ]
    },
    {
     "cell_type": "markdown",
     "metadata": {},
     "source": [
      "Integrantes:\n",
      "<br>\n",
      "**Alejandro Zapata Lopera**\n",
      "<br>\n",
      "**Giovanny Arango**\n",
        "<br>\n",
        "<br>\n",
      "**PROBLEMA 1**",
      "<br>\n",
       "Sin Solución\n",
     
     ]
    },
    {
     "cell_type": "heading",
     "level": 6,
     "metadata": {},
     "source": [
      "<hr>"
     ]
    }
   ],
   "metadata": {}
  }
 ]
}
