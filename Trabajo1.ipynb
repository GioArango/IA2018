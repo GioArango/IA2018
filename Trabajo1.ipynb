{
 "metadata": {
  "name": "",
  "signature": "sha256:1b1eb45a395660d04f1a644bfcab0630d9e6e7f427a48fa1eabab0e91f90f830"
 },
 "nbformat": 3,
 "nbformat_minor": 0,
 "worksheets": [
  {
   "cells": [
    {
     "cell_type": "heading",
     "level": 1,
     "metadata": {},
     "source": [
      "<br>\n",
      "<br>\n",
      "<br>\n",
      "TRABAJO 1"
     ]
    },
    {
     "cell_type": "markdown",
     "metadata": {},
     "source": [
      "Integrantes:\n",
      "<br>\n",
      "**Alejandro Zapata Lopera**\n",
      "<br>\n",
      "**Giovanny Arango**\n",
        "<br>\n",
        "<br>\n",
      "**PROBLEMA 1**",
      "<br>\n",
       "Sin Solución\n",
      "<br>\n",
       "<br>\n",
       "**PROBLEMA 2**",
       "<br>\n",
       "**Estado Inicial:** 3 Caníbales y 3 Misioneros del lado inicial del río (Lado A)\n",
       "<br>\n",
       "**Función Secuencia:** \n",
       "<br>\n",
       "**Estado Objetivo:** Llevar al lado destino del río (Lado B)  a 3 caníbales y 3 misioneros\n",
       "<br>\n",
       "**Costo:** Cantidad de viajes realizados\n"
   
     ]
    },
    {
     "cell_type": "heading",
     "level": 6,
     "metadata": {},
     "source": [
      "<hr>"
     ]
    }
   ],
   "metadata": {}
  }
 ]
}
