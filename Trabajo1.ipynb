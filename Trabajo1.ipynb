{
 "metadata": {
  "name": "",
 },
 "nbformat": 3,
 "nbformat_minor": 0,
 "worksheets": [
  {
   "cells": [
    {
     "cell_type": "heading",
     "level": 1,
     "metadata": {},
     "source": [
      "<br>\n",
      "<br>\n",
      "<br>\n",
      "TRABAJO 1"
     ]
    },
    {
     "cell_type": "markdown",
     "metadata": {},
     "source": [
      "Trabajo 1\n",
      "### Sin Solución\n",
     ]
    },
    {
     "cell_type": "heading",
     "level": 6,
     "metadata": {},
     "source": [
      "<hr>"
     ]
    }
   ],
   "metadata": {}
  }
 ]
}
